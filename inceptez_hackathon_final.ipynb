{
 "cells": [
  {
   "cell_type": "code",
   "execution_count": 241,
   "metadata": {
    "id": "Clc84RKX-9T7"
   },
   "outputs": [],
   "source": [
    "import pandas as pd\n",
    "import numpy as np\n",
    "import zipfile as zf\n",
    "import matplotlib.pyplot as plt\n",
    "import seaborn as sns\n",
    "from sklearn.pipeline import Pipeline\n",
    "from sklearn.compose import ColumnTransformer\n",
    "from sklearn.preprocessing import OneHotEncoder, StandardScaler\n",
    "from sklearn.preprocessing import PolynomialFeatures\n",
    "from sklearn.linear_model import LogisticRegression\n",
    "from sklearn.model_selection import train_test_split, GridSearchCV\n",
    "from sklearn.metrics import log_loss, confusion_matrix, classification_report, ConfusionMatrixDisplay\n",
    "from sklearn.preprocessing import LabelEncoder\n",
    "from sklearn.tree import DecisionTreeClassifier\n",
    "from sklearn.neighbors import KNeighborsClassifier\n",
    "from sklearn.ensemble import RandomForestClassifier\n",
    "from sklearn.model_selection import train_test_split, GridSearchCV\n",
    "from sklearn.ensemble import GradientBoostingClassifier, VotingClassifier, StackingClassifier\n",
    "from xgboost import XGBClassifier\n",
    "from sklearn.metrics import accuracy_score\n",
    "import joblib\n",
    "\n",
    "\n",
    "\n",
    "import warnings\n",
    "warnings.filterwarnings('ignore')\n"
   ]
  },
  {
   "cell_type": "code",
   "execution_count": 240,
   "metadata": {},
   "outputs": [
    {
     "name": "stdout",
     "output_type": "stream",
     "text": [
      "Defaulting to user installation because normal site-packages is not writeable\n",
      "Looking in links: /usr/share/pip-wheels\n",
      "Collecting xgboost\n",
      "  Downloading xgboost-2.0.1-py3-none-manylinux2014_x86_64.whl (297.1 MB)\n",
      "\u001b[K     |█████████████████████████████▏  | 270.6 MB 129.4 MB/s eta 0:00:01"
     ]
    },
    {
     "name": "stderr",
     "output_type": "stream",
     "text": [
      "IOPub data rate exceeded.\n",
      "The Jupyter server will temporarily stop sending output\n",
      "to the client in order to avoid crashing it.\n",
      "To change this limit, set the config variable\n",
      "`--ServerApp.iopub_data_rate_limit`.\n",
      "\n",
      "Current values:\n",
      "ServerApp.iopub_data_rate_limit=1000000.0 (bytes/sec)\n",
      "ServerApp.rate_limit_window=3.0 (secs)\n",
      "\n"
     ]
    },
    {
     "name": "stdout",
     "output_type": "stream",
     "text": [
      "\u001b[K     |████████████████████████████████| 297.1 MB 181 bytes/s \n",
      "\u001b[?25hRequirement already satisfied: scipy in /opt/conda/envs/anaconda-2022.05-py39/lib/python3.9/site-packages (from xgboost) (1.7.3)\n",
      "Requirement already satisfied: numpy in /opt/conda/envs/anaconda-2022.05-py39/lib/python3.9/site-packages (from xgboost) (1.21.5)\n",
      "Installing collected packages: xgboost\n",
      "Successfully installed xgboost-2.0.1\n",
      "Note: you may need to restart the kernel to use updated packages.\n"
     ]
    }
   ],
   "source": [
    "pip install xgboost\n"
   ]
  },
  {
   "cell_type": "code",
   "execution_count": 123,
   "metadata": {
    "id": "YUmaTaoG_dj9"
   },
   "outputs": [],
   "source": [
    " # extract the zip file\n",
    "un_zip = zf.ZipFile('Inceptez_hackathon.zip')\n",
    "un_zip.extractall()"
   ]
  },
  {
   "cell_type": "code",
   "execution_count": 125,
   "metadata": {
    "id": "pVgC5U93AciT"
   },
   "outputs": [],
   "source": [
    "# Load the data\n",
    "train = pd.read_csv(\"train_loan_data.csv\")\n",
    "test = pd.read_csv(\"test_loan_data.csv\")\n",
    "sample = pd.read_csv(\"test_results.csv\")\n"
   ]
  },
  {
   "cell_type": "code",
   "execution_count": 127,
   "metadata": {
    "colab": {
     "base_uri": "https://localhost:8080/"
    },
    "id": "9yyZx5nKT6wR",
    "outputId": "d93a0dc0-eb2a-4335-94fb-b2c5bb31c58b"
   },
   "outputs": [
    {
     "data": {
      "text/plain": [
       "addr_state                 51\n",
       "annual_inc               7536\n",
       "earliest_cr_line          640\n",
       "emp_length                 11\n",
       "emp_title               36661\n",
       "fico_range_high            38\n",
       "fico_range_low             38\n",
       "grade                       7\n",
       "home_ownership              6\n",
       "application_type            2\n",
       "initial_list_status         2\n",
       "int_rate                  549\n",
       "loan_amnt                1373\n",
       "num_actv_bc_tl             28\n",
       "mort_acc                   28\n",
       "tot_cur_bal             65410\n",
       "open_acc                   56\n",
       "pub_rec                    15\n",
       "pub_rec_bankruptcies        8\n",
       "purpose                    14\n",
       "revol_bal               32971\n",
       "revol_util               1080\n",
       "sub_grade                  35\n",
       "term                        2\n",
       "title                    5349\n",
       "total_acc                 107\n",
       "verification_status         3\n",
       "loan_status                 2\n",
       "dtype: int64"
      ]
     },
     "execution_count": 127,
     "metadata": {},
     "output_type": "execute_result"
    }
   ],
   "source": [
    "train.nunique()"
   ]
  },
  {
   "cell_type": "code",
   "execution_count": 129,
   "metadata": {
    "colab": {
     "base_uri": "https://localhost:8080/"
    },
    "id": "sIF6e6SvUfge",
    "outputId": "d82a6357-3cd1-4da7-c6cf-a6de99848313"
   },
   "outputs": [
    {
     "data": {
      "text/plain": [
       "(0, 0)"
      ]
     },
     "execution_count": 129,
     "metadata": {},
     "output_type": "execute_result"
    }
   ],
   "source": [
    "# check for duplicates\n",
    "train.duplicated().sum(), test.duplicated().sum()"
   ]
  },
  {
   "cell_type": "code",
   "execution_count": 131,
   "metadata": {
    "colab": {
     "base_uri": "https://localhost:8080/",
     "height": 360
    },
    "id": "oOLEiL_7HPGw",
    "outputId": "7b0be509-8615-4e77-db17-d21003bfbe3d"
   },
   "outputs": [
    {
     "data": {
      "text/html": [
       "<div>\n",
       "<style scoped>\n",
       "    .dataframe tbody tr th:only-of-type {\n",
       "        vertical-align: middle;\n",
       "    }\n",
       "\n",
       "    .dataframe tbody tr th {\n",
       "        vertical-align: top;\n",
       "    }\n",
       "\n",
       "    .dataframe thead th {\n",
       "        text-align: right;\n",
       "    }\n",
       "</style>\n",
       "<table border=\"1\" class=\"dataframe\">\n",
       "  <thead>\n",
       "    <tr style=\"text-align: right;\">\n",
       "      <th></th>\n",
       "      <th>addr_state</th>\n",
       "      <th>annual_inc</th>\n",
       "      <th>earliest_cr_line</th>\n",
       "      <th>emp_length</th>\n",
       "      <th>emp_title</th>\n",
       "      <th>fico_range_high</th>\n",
       "      <th>fico_range_low</th>\n",
       "      <th>grade</th>\n",
       "      <th>home_ownership</th>\n",
       "      <th>application_type</th>\n",
       "      <th>...</th>\n",
       "      <th>pub_rec_bankruptcies</th>\n",
       "      <th>purpose</th>\n",
       "      <th>revol_bal</th>\n",
       "      <th>revol_util</th>\n",
       "      <th>sub_grade</th>\n",
       "      <th>term</th>\n",
       "      <th>title</th>\n",
       "      <th>total_acc</th>\n",
       "      <th>verification_status</th>\n",
       "      <th>loan_status</th>\n",
       "    </tr>\n",
       "  </thead>\n",
       "  <tbody>\n",
       "    <tr>\n",
       "      <th>0</th>\n",
       "      <td>CO</td>\n",
       "      <td>85000.0</td>\n",
       "      <td>Jul-1997</td>\n",
       "      <td>10+ years</td>\n",
       "      <td>Deputy</td>\n",
       "      <td>744.0</td>\n",
       "      <td>740.0</td>\n",
       "      <td>E</td>\n",
       "      <td>MORTGAGE</td>\n",
       "      <td>Individual</td>\n",
       "      <td>...</td>\n",
       "      <td>0.0</td>\n",
       "      <td>debt_consolidation</td>\n",
       "      <td>5338.0</td>\n",
       "      <td>93.6</td>\n",
       "      <td>E1</td>\n",
       "      <td>60 months</td>\n",
       "      <td>Debt consolidation</td>\n",
       "      <td>8.0</td>\n",
       "      <td>Source Verified</td>\n",
       "      <td>Charged Off</td>\n",
       "    </tr>\n",
       "    <tr>\n",
       "      <th>1</th>\n",
       "      <td>CA</td>\n",
       "      <td>40000.0</td>\n",
       "      <td>Apr-1987</td>\n",
       "      <td>10+ years</td>\n",
       "      <td>Department of Veterans Affairs</td>\n",
       "      <td>724.0</td>\n",
       "      <td>720.0</td>\n",
       "      <td>B</td>\n",
       "      <td>RENT</td>\n",
       "      <td>Individual</td>\n",
       "      <td>...</td>\n",
       "      <td>0.0</td>\n",
       "      <td>debt_consolidation</td>\n",
       "      <td>19944.0</td>\n",
       "      <td>60.3</td>\n",
       "      <td>B1</td>\n",
       "      <td>36 months</td>\n",
       "      <td>Credit Loan</td>\n",
       "      <td>12.0</td>\n",
       "      <td>Verified</td>\n",
       "      <td>Fully Paid</td>\n",
       "    </tr>\n",
       "    <tr>\n",
       "      <th>2</th>\n",
       "      <td>FL</td>\n",
       "      <td>60000.0</td>\n",
       "      <td>Aug-2007</td>\n",
       "      <td>10+ years</td>\n",
       "      <td>Marble polishing</td>\n",
       "      <td>679.0</td>\n",
       "      <td>675.0</td>\n",
       "      <td>B</td>\n",
       "      <td>MORTGAGE</td>\n",
       "      <td>Individual</td>\n",
       "      <td>...</td>\n",
       "      <td>0.0</td>\n",
       "      <td>debt_consolidation</td>\n",
       "      <td>23199.0</td>\n",
       "      <td>88.5</td>\n",
       "      <td>B5</td>\n",
       "      <td>36 months</td>\n",
       "      <td>Debt consolidation</td>\n",
       "      <td>16.0</td>\n",
       "      <td>Source Verified</td>\n",
       "      <td>Fully Paid</td>\n",
       "    </tr>\n",
       "    <tr>\n",
       "      <th>3</th>\n",
       "      <td>IL</td>\n",
       "      <td>100742.0</td>\n",
       "      <td>Sep-1980</td>\n",
       "      <td>10+ years</td>\n",
       "      <td>printer</td>\n",
       "      <td>664.0</td>\n",
       "      <td>660.0</td>\n",
       "      <td>B</td>\n",
       "      <td>MORTGAGE</td>\n",
       "      <td>Individual</td>\n",
       "      <td>...</td>\n",
       "      <td>0.0</td>\n",
       "      <td>debt_consolidation</td>\n",
       "      <td>18425.0</td>\n",
       "      <td>69.0</td>\n",
       "      <td>B2</td>\n",
       "      <td>36 months</td>\n",
       "      <td>Debt consolidation</td>\n",
       "      <td>19.0</td>\n",
       "      <td>Source Verified</td>\n",
       "      <td>Fully Paid</td>\n",
       "    </tr>\n",
       "    <tr>\n",
       "      <th>4</th>\n",
       "      <td>MD</td>\n",
       "      <td>80000.0</td>\n",
       "      <td>Jul-1999</td>\n",
       "      <td>10+ years</td>\n",
       "      <td>Southern Mgmt</td>\n",
       "      <td>669.0</td>\n",
       "      <td>665.0</td>\n",
       "      <td>F</td>\n",
       "      <td>RENT</td>\n",
       "      <td>Individual</td>\n",
       "      <td>...</td>\n",
       "      <td>0.0</td>\n",
       "      <td>debt_consolidation</td>\n",
       "      <td>34370.0</td>\n",
       "      <td>90.0</td>\n",
       "      <td>F5</td>\n",
       "      <td>60 months</td>\n",
       "      <td>Debt Connsolidation</td>\n",
       "      <td>59.0</td>\n",
       "      <td>Verified</td>\n",
       "      <td>Fully Paid</td>\n",
       "    </tr>\n",
       "  </tbody>\n",
       "</table>\n",
       "<p>5 rows × 28 columns</p>\n",
       "</div>"
      ],
      "text/plain": [
       "  addr_state  annual_inc earliest_cr_line emp_length  \\\n",
       "0         CO     85000.0         Jul-1997  10+ years   \n",
       "1         CA     40000.0         Apr-1987  10+ years   \n",
       "2         FL     60000.0         Aug-2007  10+ years   \n",
       "3         IL    100742.0         Sep-1980  10+ years   \n",
       "4         MD     80000.0         Jul-1999  10+ years   \n",
       "\n",
       "                        emp_title  fico_range_high  fico_range_low grade  \\\n",
       "0                          Deputy            744.0           740.0     E   \n",
       "1  Department of Veterans Affairs            724.0           720.0     B   \n",
       "2                Marble polishing            679.0           675.0     B   \n",
       "3                         printer            664.0           660.0     B   \n",
       "4                   Southern Mgmt            669.0           665.0     F   \n",
       "\n",
       "  home_ownership application_type  ... pub_rec_bankruptcies  \\\n",
       "0       MORTGAGE       Individual  ...                  0.0   \n",
       "1           RENT       Individual  ...                  0.0   \n",
       "2       MORTGAGE       Individual  ...                  0.0   \n",
       "3       MORTGAGE       Individual  ...                  0.0   \n",
       "4           RENT       Individual  ...                  0.0   \n",
       "\n",
       "              purpose  revol_bal  revol_util  sub_grade        term  \\\n",
       "0  debt_consolidation     5338.0        93.6         E1   60 months   \n",
       "1  debt_consolidation    19944.0        60.3         B1   36 months   \n",
       "2  debt_consolidation    23199.0        88.5         B5   36 months   \n",
       "3  debt_consolidation    18425.0        69.0         B2   36 months   \n",
       "4  debt_consolidation    34370.0        90.0         F5   60 months   \n",
       "\n",
       "                 title  total_acc  verification_status  loan_status  \n",
       "0   Debt consolidation        8.0      Source Verified  Charged Off  \n",
       "1          Credit Loan       12.0             Verified   Fully Paid  \n",
       "2   Debt consolidation       16.0      Source Verified   Fully Paid  \n",
       "3   Debt consolidation       19.0      Source Verified   Fully Paid  \n",
       "4  Debt Connsolidation       59.0             Verified   Fully Paid  \n",
       "\n",
       "[5 rows x 28 columns]"
      ]
     },
     "execution_count": 131,
     "metadata": {},
     "output_type": "execute_result"
    }
   ],
   "source": [
    "train.head()"
   ]
  },
  {
   "cell_type": "code",
   "execution_count": 133,
   "metadata": {
    "colab": {
     "base_uri": "https://localhost:8080/"
    },
    "id": "NmD7Fa7RgRkE",
    "outputId": "b2c20903-be2f-41ab-f2c5-446e40b24e71"
   },
   "outputs": [
    {
     "data": {
      "text/plain": [
       "((80000, 28), (20000, 27), (20000, 1))"
      ]
     },
     "execution_count": 133,
     "metadata": {},
     "output_type": "execute_result"
    }
   ],
   "source": [
    "train.shape,test.shape,sample.shape"
   ]
  },
  {
   "cell_type": "code",
   "execution_count": 135,
   "metadata": {
    "colab": {
     "base_uri": "https://localhost:8080/",
     "height": 320
    },
    "id": "M0zqOFr1ggli",
    "outputId": "5dcb100e-875d-4860-c8a3-06e24a8113a1"
   },
   "outputs": [
    {
     "data": {
      "text/html": [
       "<div>\n",
       "<style scoped>\n",
       "    .dataframe tbody tr th:only-of-type {\n",
       "        vertical-align: middle;\n",
       "    }\n",
       "\n",
       "    .dataframe tbody tr th {\n",
       "        vertical-align: top;\n",
       "    }\n",
       "\n",
       "    .dataframe thead th {\n",
       "        text-align: right;\n",
       "    }\n",
       "</style>\n",
       "<table border=\"1\" class=\"dataframe\">\n",
       "  <thead>\n",
       "    <tr style=\"text-align: right;\">\n",
       "      <th></th>\n",
       "      <th>annual_inc</th>\n",
       "      <th>fico_range_high</th>\n",
       "      <th>fico_range_low</th>\n",
       "      <th>int_rate</th>\n",
       "      <th>loan_amnt</th>\n",
       "      <th>num_actv_bc_tl</th>\n",
       "      <th>mort_acc</th>\n",
       "      <th>tot_cur_bal</th>\n",
       "      <th>open_acc</th>\n",
       "      <th>pub_rec</th>\n",
       "      <th>pub_rec_bankruptcies</th>\n",
       "      <th>revol_bal</th>\n",
       "      <th>revol_util</th>\n",
       "      <th>total_acc</th>\n",
       "    </tr>\n",
       "  </thead>\n",
       "  <tbody>\n",
       "    <tr>\n",
       "      <th>count</th>\n",
       "      <td>8.000000e+04</td>\n",
       "      <td>80000.000000</td>\n",
       "      <td>80000.000000</td>\n",
       "      <td>80000.000000</td>\n",
       "      <td>80000.000000</td>\n",
       "      <td>76052.000000</td>\n",
       "      <td>77229.000000</td>\n",
       "      <td>7.605200e+04</td>\n",
       "      <td>80000.000000</td>\n",
       "      <td>80000.000000</td>\n",
       "      <td>79969.000000</td>\n",
       "      <td>8.000000e+04</td>\n",
       "      <td>79947.000000</td>\n",
       "      <td>80000.000000</td>\n",
       "    </tr>\n",
       "    <tr>\n",
       "      <th>mean</th>\n",
       "      <td>7.604614e+04</td>\n",
       "      <td>699.987975</td>\n",
       "      <td>695.987813</td>\n",
       "      <td>13.232898</td>\n",
       "      <td>14403.867813</td>\n",
       "      <td>3.633790</td>\n",
       "      <td>1.674759</td>\n",
       "      <td>1.415864e+05</td>\n",
       "      <td>11.605675</td>\n",
       "      <td>0.216675</td>\n",
       "      <td>0.137103</td>\n",
       "      <td>1.628934e+04</td>\n",
       "      <td>51.899142</td>\n",
       "      <td>25.036875</td>\n",
       "    </tr>\n",
       "    <tr>\n",
       "      <th>std</th>\n",
       "      <td>6.902006e+04</td>\n",
       "      <td>31.734840</td>\n",
       "      <td>31.734075</td>\n",
       "      <td>4.771705</td>\n",
       "      <td>8703.826298</td>\n",
       "      <td>2.262505</td>\n",
       "      <td>2.005104</td>\n",
       "      <td>1.593714e+05</td>\n",
       "      <td>5.483362</td>\n",
       "      <td>0.579854</td>\n",
       "      <td>0.383202</td>\n",
       "      <td>2.264915e+04</td>\n",
       "      <td>24.504836</td>\n",
       "      <td>12.009194</td>\n",
       "    </tr>\n",
       "    <tr>\n",
       "      <th>min</th>\n",
       "      <td>0.000000e+00</td>\n",
       "      <td>664.000000</td>\n",
       "      <td>660.000000</td>\n",
       "      <td>5.310000</td>\n",
       "      <td>750.000000</td>\n",
       "      <td>0.000000</td>\n",
       "      <td>0.000000</td>\n",
       "      <td>0.000000e+00</td>\n",
       "      <td>1.000000</td>\n",
       "      <td>0.000000</td>\n",
       "      <td>0.000000</td>\n",
       "      <td>0.000000e+00</td>\n",
       "      <td>0.000000</td>\n",
       "      <td>2.000000</td>\n",
       "    </tr>\n",
       "    <tr>\n",
       "      <th>25%</th>\n",
       "      <td>4.600000e+04</td>\n",
       "      <td>674.000000</td>\n",
       "      <td>670.000000</td>\n",
       "      <td>9.750000</td>\n",
       "      <td>7925.000000</td>\n",
       "      <td>2.000000</td>\n",
       "      <td>0.000000</td>\n",
       "      <td>2.964200e+04</td>\n",
       "      <td>8.000000</td>\n",
       "      <td>0.000000</td>\n",
       "      <td>0.000000</td>\n",
       "      <td>5.965750e+03</td>\n",
       "      <td>33.500000</td>\n",
       "      <td>16.000000</td>\n",
       "    </tr>\n",
       "    <tr>\n",
       "      <th>50%</th>\n",
       "      <td>6.500000e+04</td>\n",
       "      <td>694.000000</td>\n",
       "      <td>690.000000</td>\n",
       "      <td>12.740000</td>\n",
       "      <td>12000.000000</td>\n",
       "      <td>3.000000</td>\n",
       "      <td>1.000000</td>\n",
       "      <td>8.100050e+04</td>\n",
       "      <td>11.000000</td>\n",
       "      <td>0.000000</td>\n",
       "      <td>0.000000</td>\n",
       "      <td>1.111100e+04</td>\n",
       "      <td>52.200000</td>\n",
       "      <td>23.000000</td>\n",
       "    </tr>\n",
       "    <tr>\n",
       "      <th>75%</th>\n",
       "      <td>9.000000e+04</td>\n",
       "      <td>714.000000</td>\n",
       "      <td>710.000000</td>\n",
       "      <td>15.990000</td>\n",
       "      <td>20000.000000</td>\n",
       "      <td>5.000000</td>\n",
       "      <td>3.000000</td>\n",
       "      <td>2.110272e+05</td>\n",
       "      <td>14.000000</td>\n",
       "      <td>0.000000</td>\n",
       "      <td>0.000000</td>\n",
       "      <td>1.963500e+04</td>\n",
       "      <td>70.800000</td>\n",
       "      <td>32.000000</td>\n",
       "    </tr>\n",
       "    <tr>\n",
       "      <th>max</th>\n",
       "      <td>7.141778e+06</td>\n",
       "      <td>850.000000</td>\n",
       "      <td>845.000000</td>\n",
       "      <td>30.990000</td>\n",
       "      <td>40000.000000</td>\n",
       "      <td>32.000000</td>\n",
       "      <td>32.000000</td>\n",
       "      <td>5.172185e+06</td>\n",
       "      <td>80.000000</td>\n",
       "      <td>24.000000</td>\n",
       "      <td>7.000000</td>\n",
       "      <td>1.023940e+06</td>\n",
       "      <td>152.600000</td>\n",
       "      <td>162.000000</td>\n",
       "    </tr>\n",
       "  </tbody>\n",
       "</table>\n",
       "</div>"
      ],
      "text/plain": [
       "         annual_inc  fico_range_high  fico_range_low      int_rate  \\\n",
       "count  8.000000e+04     80000.000000    80000.000000  80000.000000   \n",
       "mean   7.604614e+04       699.987975      695.987813     13.232898   \n",
       "std    6.902006e+04        31.734840       31.734075      4.771705   \n",
       "min    0.000000e+00       664.000000      660.000000      5.310000   \n",
       "25%    4.600000e+04       674.000000      670.000000      9.750000   \n",
       "50%    6.500000e+04       694.000000      690.000000     12.740000   \n",
       "75%    9.000000e+04       714.000000      710.000000     15.990000   \n",
       "max    7.141778e+06       850.000000      845.000000     30.990000   \n",
       "\n",
       "          loan_amnt  num_actv_bc_tl      mort_acc   tot_cur_bal      open_acc  \\\n",
       "count  80000.000000    76052.000000  77229.000000  7.605200e+04  80000.000000   \n",
       "mean   14403.867813        3.633790      1.674759  1.415864e+05     11.605675   \n",
       "std     8703.826298        2.262505      2.005104  1.593714e+05      5.483362   \n",
       "min      750.000000        0.000000      0.000000  0.000000e+00      1.000000   \n",
       "25%     7925.000000        2.000000      0.000000  2.964200e+04      8.000000   \n",
       "50%    12000.000000        3.000000      1.000000  8.100050e+04     11.000000   \n",
       "75%    20000.000000        5.000000      3.000000  2.110272e+05     14.000000   \n",
       "max    40000.000000       32.000000     32.000000  5.172185e+06     80.000000   \n",
       "\n",
       "            pub_rec  pub_rec_bankruptcies     revol_bal    revol_util  \\\n",
       "count  80000.000000          79969.000000  8.000000e+04  79947.000000   \n",
       "mean       0.216675              0.137103  1.628934e+04     51.899142   \n",
       "std        0.579854              0.383202  2.264915e+04     24.504836   \n",
       "min        0.000000              0.000000  0.000000e+00      0.000000   \n",
       "25%        0.000000              0.000000  5.965750e+03     33.500000   \n",
       "50%        0.000000              0.000000  1.111100e+04     52.200000   \n",
       "75%        0.000000              0.000000  1.963500e+04     70.800000   \n",
       "max       24.000000              7.000000  1.023940e+06    152.600000   \n",
       "\n",
       "          total_acc  \n",
       "count  80000.000000  \n",
       "mean      25.036875  \n",
       "std       12.009194  \n",
       "min        2.000000  \n",
       "25%       16.000000  \n",
       "50%       23.000000  \n",
       "75%       32.000000  \n",
       "max      162.000000  "
      ]
     },
     "execution_count": 135,
     "metadata": {},
     "output_type": "execute_result"
    }
   ],
   "source": [
    "train.describe()"
   ]
  },
  {
   "cell_type": "code",
   "execution_count": 137,
   "metadata": {
    "colab": {
     "base_uri": "https://localhost:8080/"
    },
    "id": "HvQm3Wjch5_y",
    "outputId": "154ff178-b8e9-4250-d186-bdd84d3170a3"
   },
   "outputs": [
    {
     "data": {
      "text/plain": [
       "addr_state  annual_inc  earliest_cr_line  emp_length  emp_title                      fico_range_high  fico_range_low  grade  home_ownership  application_type  initial_list_status  int_rate  loan_amnt  num_actv_bc_tl  mort_acc  tot_cur_bal  open_acc  pub_rec  pub_rec_bankruptcies  purpose             revol_bal  revol_util  sub_grade  term        title                    total_acc  verification_status  loan_status\n",
       "AK          20000.0     May-2001          4 years     Attendant on a school Bus      674.0            670.0           C      MORTGAGE        Individual        w                    12.39     5000.0     3.0             1.0       76470.0      6.0       1.0      1.0                   debt_consolidation  6724.0     93.4        C1          36 months  Debt consolidation       12.0       Verified             Fully Paid     1\n",
       "NY          57000.0     Jul-2001          10+ years   Courier                        664.0            660.0           F      MORTGAGE        Individual        f                    29.99     23925.0    5.0             0.0       37172.0      9.0       2.0      0.0                   credit_card         28960.0    87.8        F3          60 months  Credit card refinancing  12.0       Verified             Fully Paid     1\n",
       "                        May-2002          4 years     Chef/cook                      684.0            680.0           B      RENT            Individual        w                    10.99     15000.0    4.0             0.0       35774.0      9.0       0.0      0.0                   credit_card         8484.0     49.0        B4          36 months  Credit card refinancing  17.0       Source Verified      Fully Paid     1\n",
       "                        May-2001          < 1 year    Compliance Operations Manager  664.0            660.0           D      RENT            Individual        f                    17.86     20500.0    7.0             0.0       58638.0      21.0      0.0      0.0                   debt_consolidation  18093.0    48.6        D5          60 months  Debt consolidation       31.0       Verified             Fully Paid     1\n",
       "                        May-1988          4 years     Director Of Education          664.0            660.0           B      MORTGAGE        Individual        w                    9.17      14700.0    2.0             3.0       204037.0     7.0       1.0      1.0                   credit_card         9555.0     31.3        B1          60 months  Credit card refinancing  40.0       Verified             Fully Paid     1\n",
       "                                                                                                                                                                                                                                                                                                                                                                                                                                  ..\n",
       "GA          160000.0    Aug-1995          < 1 year    GS-12                          689.0            685.0           B      MORTGAGE        Individual        w                    9.17      35000.0    3.0             2.0       127378.0     15.0      0.0      0.0                   debt_consolidation  34674.0    60.2        B2          36 months  Debt consolidation       32.0       Source Verified      Fully Paid     1\n",
       "                        Dec-2000          1 year      Marketing Director             719.0            715.0           C      MORTGAGE        Individual        f                    12.99     35000.0    5.0             2.0       461201.0     10.0      0.0      0.0                   home_improvement    41652.0    57.0        C2          36 months  Home improvement         19.0       Source Verified      Fully Paid     1\n",
       "                        Feb-1989          10+ years   Professor                      714.0            710.0           C      MORTGAGE        Individual        f                    12.29     35000.0    5.0             8.0       358940.0     22.0      0.0      0.0                   debt_consolidation  53962.0    39.6        C1          36 months  Debt consolidation       44.0       Verified             Fully Paid     1\n",
       "                                                      RN                             729.0            725.0           C      MORTGAGE        Individual        w                    14.08     40000.0    5.0             6.0       447177.0     32.0      0.0      0.0                   debt_consolidation  10874.0    16.8        C3          60 months  Debt consolidation       64.0       Source Verified      Fully Paid     1\n",
       "WY          188000.0    Jun-2004          8 years     coal Miner                     689.0            685.0           E      MORTGAGE        Individual        w                    18.20     28000.0    4.0             5.0       257974.0     12.0      0.0      0.0                   credit_card         20442.0    68.4        E1          60 months  Credit card refinancing  24.0       Not Verified         Fully Paid     1\n",
       "Length: 70375, dtype: int64"
      ]
     },
     "execution_count": 137,
     "metadata": {},
     "output_type": "execute_result"
    }
   ],
   "source": [
    "train.value_counts()"
   ]
  },
  {
   "cell_type": "code",
   "execution_count": 138,
   "metadata": {
    "colab": {
     "base_uri": "https://localhost:8080/"
    },
    "id": "3317gtVHidBb",
    "outputId": "641356f2-cf4e-4650-ba9a-f38b5dcd3a6f"
   },
   "outputs": [
    {
     "data": {
      "text/plain": [
       "addr_state                 0\n",
       "annual_inc                 0\n",
       "earliest_cr_line           0\n",
       "emp_length              4588\n",
       "emp_title               5018\n",
       "fico_range_high            0\n",
       "fico_range_low             0\n",
       "grade                      0\n",
       "home_ownership             0\n",
       "application_type           0\n",
       "initial_list_status        0\n",
       "int_rate                   0\n",
       "loan_amnt                  0\n",
       "num_actv_bc_tl          3948\n",
       "mort_acc                2771\n",
       "tot_cur_bal             3948\n",
       "open_acc                   0\n",
       "pub_rec                    0\n",
       "pub_rec_bankruptcies      31\n",
       "purpose                    0\n",
       "revol_bal                  0\n",
       "revol_util                53\n",
       "sub_grade                  0\n",
       "term                       0\n",
       "title                    970\n",
       "total_acc                  0\n",
       "verification_status        0\n",
       "loan_status                0\n",
       "dtype: int64"
      ]
     },
     "execution_count": 138,
     "metadata": {},
     "output_type": "execute_result"
    }
   ],
   "source": [
    "#checking null values\n",
    "train.isna().sum()"
   ]
  },
  {
   "cell_type": "code",
   "execution_count": 140,
   "metadata": {
    "id": "Zil_RDM3xP72"
   },
   "outputs": [],
   "source": [
    "# EDA - Univariate analysis\n"
   ]
  },
  {
   "cell_type": "code",
   "execution_count": 141,
   "metadata": {
    "id": "dTkmQh98xViE"
   },
   "outputs": [],
   "source": [
    "#combine dataset\n",
    "#data = pd.concat([train,test])\n",
    "#train.shape,test.shape,data.shape\n",
    "data = train"
   ]
  },
  {
   "cell_type": "code",
   "execution_count": 143,
   "metadata": {
    "colab": {
     "base_uri": "https://localhost:8080/"
    },
    "id": "iUKxB8BKxfbv",
    "outputId": "3ba5568b-b5dd-417b-9e5f-da2bcad66210"
   },
   "outputs": [
    {
     "name": "stdout",
     "output_type": "stream",
     "text": [
      "Index(['addr_state', 'earliest_cr_line', 'emp_length', 'emp_title', 'grade',\n",
      "       'home_ownership', 'application_type', 'initial_list_status', 'purpose',\n",
      "       'sub_grade', 'term', 'title', 'verification_status'],\n",
      "      dtype='object') Index(['annual_inc', 'fico_range_high', 'fico_range_low', 'int_rate',\n",
      "       'loan_amnt', 'num_actv_bc_tl', 'mort_acc', 'tot_cur_bal', 'open_acc',\n",
      "       'pub_rec', 'pub_rec_bankruptcies', 'revol_bal', 'revol_util',\n",
      "       'total_acc'],\n",
      "      dtype='object')\n"
     ]
    }
   ],
   "source": [
    "cat_cols = data.drop(columns='loan_status').select_dtypes(include=object).columns\n",
    "num_cols = data.drop(columns='loan_status').select_dtypes(include=np.number).columns\n",
    "print(cat_cols, num_cols)"
   ]
  },
  {
   "cell_type": "code",
   "execution_count": 147,
   "metadata": {
    "colab": {
     "base_uri": "https://localhost:8080/"
    },
    "id": "36nHn8wGjRUY",
    "outputId": "53ee600a-cc9c-4536-9a78-aa0348a0fc18"
   },
   "outputs": [
    {
     "data": {
      "text/plain": [
       "array(['10+ years', nan, '3 years', '< 1 year', '1 year', '8 years',\n",
       "       '7 years', '4 years', '2 years', '5 years', '6 years', '9 years'],\n",
       "      dtype=object)"
      ]
     },
     "execution_count": 147,
     "metadata": {},
     "output_type": "execute_result"
    }
   ],
   "source": [
    "data['emp_length'].unique()"
   ]
  },
  {
   "cell_type": "code",
   "execution_count": 149,
   "metadata": {
    "id": "gji1uXOpDzjP"
   },
   "outputs": [],
   "source": [
    "data['emp_length'].replace({'10+ years':10,'3 years':3,'< 1 year':1.5,'1 year':'1', '8 years':'8', '7 years':'7','4 years':4,'2 years':'2', '5 years':'5','6 years':'6','9 years':'9'}, inplace = True)"
   ]
  },
  {
   "cell_type": "code",
   "execution_count": 151,
   "metadata": {
    "id": "lrkTFp_WHG7W"
   },
   "outputs": [],
   "source": [
    "data['emp_length'] = pd.to_numeric(data['emp_length'], errors='coerce')"
   ]
  },
  {
   "cell_type": "code",
   "execution_count": 153,
   "metadata": {
    "colab": {
     "base_uri": "https://localhost:8080/"
    },
    "id": "IRVF5NOvFmR3",
    "outputId": "1fa4c07e-989e-477b-9af1-cf89d1e779f6"
   },
   "outputs": [
    {
     "data": {
      "text/plain": [
       "6.090390123587758"
      ]
     },
     "execution_count": 153,
     "metadata": {},
     "output_type": "execute_result"
    }
   ],
   "source": [
    "data['emp_length'].mean()"
   ]
  },
  {
   "cell_type": "code",
   "execution_count": 155,
   "metadata": {
    "id": "rVlQFdJJHYkX"
   },
   "outputs": [],
   "source": [
    "data['emp_length'].fillna(data['emp_length'].mean(), inplace = True)"
   ]
  },
  {
   "cell_type": "code",
   "execution_count": 157,
   "metadata": {
    "id": "iWUHJg0fH-kg"
   },
   "outputs": [],
   "source": [
    "data['emp_title'].fillna(data['emp_title'].mode()[0], inplace = True)\n"
   ]
  },
  {
   "cell_type": "code",
   "execution_count": 159,
   "metadata": {
    "colab": {
     "base_uri": "https://localhost:8080/"
    },
    "id": "QezaNOuoJkSo",
    "outputId": "a330a2ef-19e1-409b-b15b-85d5a69c0195"
   },
   "outputs": [
    {
     "data": {
      "text/plain": [
       "array([ 1.,  4., 14., nan,  2.,  3.,  6.,  5.,  8.,  0.,  9.,  7., 11.,\n",
       "       10., 17., 13., 12., 19., 25., 16., 15., 20., 18., 24., 21., 22.,\n",
       "       26., 27., 32.])"
      ]
     },
     "execution_count": 159,
     "metadata": {},
     "output_type": "execute_result"
    }
   ],
   "source": [
    "data['num_actv_bc_tl'].unique()"
   ]
  },
  {
   "cell_type": "code",
   "execution_count": 161,
   "metadata": {
    "id": "pyMkTwtjM26P"
   },
   "outputs": [],
   "source": [
    "data['num_actv_bc_tl'].fillna(data['num_actv_bc_tl'].mean(), inplace = True)"
   ]
  },
  {
   "cell_type": "code",
   "execution_count": 163,
   "metadata": {
    "colab": {
     "base_uri": "https://localhost:8080/"
    },
    "id": "JBRU0WJVNFGk",
    "outputId": "5d292fd2-b2ba-4c75-ae58-c2b598a55cbd"
   },
   "outputs": [
    {
     "data": {
      "text/plain": [
       "array([ 1.,  0.,  2.,  7.,  4., nan,  3.,  5.,  8., 12.,  9.,  6., 10.,\n",
       "       11., 13., 16., 14., 26., 18., 15., 32., 22., 19., 20., 27., 31.,\n",
       "       17., 24., 29.])"
      ]
     },
     "execution_count": 163,
     "metadata": {},
     "output_type": "execute_result"
    }
   ],
   "source": [
    "data['mort_acc'].unique()"
   ]
  },
  {
   "cell_type": "code",
   "execution_count": 165,
   "metadata": {
    "id": "cVF_thK3NX_q"
   },
   "outputs": [],
   "source": [
    "data['mort_acc'].fillna(data['mort_acc'].mean(), inplace = True)"
   ]
  },
  {
   "cell_type": "code",
   "execution_count": 167,
   "metadata": {
    "id": "x2AnE3hGNdpL"
   },
   "outputs": [],
   "source": [
    "data['tot_cur_bal'].isna().sum()\n",
    "data['tot_cur_bal'].fillna(0, inplace = True)"
   ]
  },
  {
   "cell_type": "code",
   "execution_count": 169,
   "metadata": {
    "id": "er0Um6b7OhJQ"
   },
   "outputs": [],
   "source": [
    "\n",
    "data['pub_rec_bankruptcies'].fillna(0, inplace = True)"
   ]
  },
  {
   "cell_type": "code",
   "execution_count": 171,
   "metadata": {
    "id": "tERLQnHmPjTt"
   },
   "outputs": [],
   "source": [
    "\n",
    "data['revol_util'].fillna(data['revol_util'].mean(), inplace = True)"
   ]
  },
  {
   "cell_type": "code",
   "execution_count": 173,
   "metadata": {
    "id": "PjN3VopXQcAv"
   },
   "outputs": [],
   "source": [
    "data['title'].fillna(data['title'].mode()[0], inplace = True)\n"
   ]
  },
  {
   "cell_type": "code",
   "execution_count": 175,
   "metadata": {
    "colab": {
     "base_uri": "https://localhost:8080/"
    },
    "id": "e8guHQZGiqON",
    "outputId": "153c3b5b-d647-446c-f400-a19d108d1c63"
   },
   "outputs": [
    {
     "data": {
      "text/plain": [
       "addr_state              0\n",
       "annual_inc              0\n",
       "earliest_cr_line        0\n",
       "emp_length              0\n",
       "emp_title               0\n",
       "fico_range_high         0\n",
       "fico_range_low          0\n",
       "grade                   0\n",
       "home_ownership          0\n",
       "application_type        0\n",
       "initial_list_status     0\n",
       "int_rate                0\n",
       "loan_amnt               0\n",
       "num_actv_bc_tl          0\n",
       "mort_acc                0\n",
       "tot_cur_bal             0\n",
       "open_acc                0\n",
       "pub_rec                 0\n",
       "pub_rec_bankruptcies    0\n",
       "purpose                 0\n",
       "revol_bal               0\n",
       "revol_util              0\n",
       "sub_grade               0\n",
       "term                    0\n",
       "title                   0\n",
       "total_acc               0\n",
       "verification_status     0\n",
       "loan_status             0\n",
       "dtype: int64"
      ]
     },
     "execution_count": 175,
     "metadata": {},
     "output_type": "execute_result"
    }
   ],
   "source": [
    "data.isna().sum()"
   ]
  },
  {
   "cell_type": "code",
   "execution_count": 177,
   "metadata": {
    "id": "7_F_OiPvwnzc"
   },
   "outputs": [],
   "source": [
    "# This columns has more unique values, so removing from the data set.\n",
    "data = data.drop(columns=['emp_title', 'title'])\n"
   ]
  },
  {
   "cell_type": "code",
   "execution_count": 178,
   "metadata": {
    "id": "4fuCTf5gxcAM"
   },
   "outputs": [],
   "source": [
    "data['earliest_cr_line_year'], data['earliest_cr_line_month'] = pd.DatetimeIndex(data['earliest_cr_line']).year, pd.DatetimeIndex(data['earliest_cr_line']).month\n",
    "data = data.drop(columns = 'earliest_cr_line')"
   ]
  },
  {
   "cell_type": "code",
   "execution_count": 181,
   "metadata": {
    "colab": {
     "base_uri": "https://localhost:8080/",
     "height": 467
    },
    "id": "9ebsm_BWV5FH",
    "outputId": "9c7a0dff-87c3-4a96-d64c-b70c95c5290a"
   },
   "outputs": [
    {
     "data": {
      "text/plain": [
       "<AxesSubplot:xlabel='loan_status', ylabel='Count'>"
      ]
     },
     "execution_count": 181,
     "metadata": {},
     "output_type": "execute_result"
    },
    {
     "data": {
      "image/png": "[encoded data removed]",
      "text/plain": [
       "<Figure size 432x288 with 1 Axes>"
      ]
     },
     "metadata": {
      "needs_background": "light"
     },
     "output_type": "display_data"
    }
   ],
   "source": [
    "sns.histplot(data['loan_status'])\n"
   ]
  },
  {
   "cell_type": "code",
   "execution_count": 182,
   "metadata": {
    "colab": {
     "base_uri": "https://localhost:8080/",
     "height": 1000
    },
    "id": "_OnthejJlr4a",
    "outputId": "4009e631-0582-4b5d-91d6-41daf28d71df"
   },
   "outputs": [
    {
     "name": "stdout",
     "output_type": "stream",
     "text": [
      "annual_inc\n"
     ]
    },
    {
     "data": {
      "image/png": "[encoded data removed]",
      "text/plain": [
       "<Figure size 432x288 with 1 Axes>"
      ]
     },
     "metadata": {
      "needs_background": "light"
     },
     "output_type": "display_data"
    },
    {
     "name": "stdout",
     "output_type": "stream",
     "text": [
      "emp_length\n"
     ]
    },
    {
     "data": {
      "image/png": "[encoded data removed]",
      "text/plain": [
       "<Figure size 432x288 with 1 Axes>"
      ]
     },
     "metadata": {
      "needs_background": "light"
     },
     "output_type": "display_data"
    },
    {
     "name": "stdout",
     "output_type": "stream",
     "text": [
      "fico_range_high\n"
     ]
    },
    {
     "data": {
      "image/png": "[encoded data removed]",
      "text/plain": [
       "<Figure size 432x288 with 1 Axes>"
      ]
     },
     "metadata": {
      "needs_background": "light"
     },
     "output_type": "display_data"
    },
    {
     "name": "stdout",
     "output_type": "stream",
     "text": [
      "fico_range_low\n"
     ]
    },
    {
     "data": {
      "image/png": "[encoded data removed]",
      "text/plain": [
       "<Figure size 432x288 with 1 Axes>"
      ]
     },
     "metadata": {
      "needs_background": "light"
     },
     "output_type": "display_data"
    },
    {
     "name": "stdout",
     "output_type": "stream",
     "text": [
      "int_rate\n"
     ]
    },
    {
     "data": {
      "image/png": "[encoded data removed]",
      "text/plain": [
       "<Figure size 432x288 with 1 Axes>"
      ]
     },
     "metadata": {
      "needs_background": "light"
     },
     "output_type": "display_data"
    },
    {
     "name": "stdout",
     "output_type": "stream",
     "text": [
      "loan_amnt\n"
     ]
    },
    {
     "data": {
      "image/png": "[encoded data removed]",
      "text/plain": [
       "<Figure size 432x288 with 1 Axes>"
      ]
     },
     "metadata": {
      "needs_background": "light"
     },
     "output_type": "display_data"
    },
    {
     "name": "stdout",
     "output_type": "stream",
     "text": [
      "num_actv_bc_tl\n"
     ]
    },
    {
     "data": {
      "image/png": "[encoded data removed]",
      "text/plain": [
       "<Figure size 432x288 with 1 Axes>"
      ]
     },
     "metadata": {
      "needs_background": "light"
     },
     "output_type": "display_data"
    },
    {
     "name": "stdout",
     "output_type": "stream",
     "text": [
      "mort_acc\n"
     ]
    },
    {
     "data": {
      "image/png": "[encoded data removed]",
      "text/plain": [
       "<Figure size 432x288 with 1 Axes>"
      ]
     },
     "metadata": {
      "needs_background": "light"
     },
     "output_type": "display_data"
    },
    {
     "name": "stdout",
     "output_type": "stream",
     "text": [
      "tot_cur_bal\n"
     ]
    },
    {
     "data": {
      "image/png": "[encoded data removed]",
      "text/plain": [
       "<Figure size 432x288 with 1 Axes>"
      ]
     },
     "metadata": {
      "needs_background": "light"
     },
     "output_type": "display_data"
    },
    {
     "name": "stdout",
     "output_type": "stream",
     "text": [
      "open_acc\n"
     ]
    },
    {
     "data": {
      "image/png": "[encoded data removed]",
      "text/plain": [
       "<Figure size 432x288 with 1 Axes>"
      ]
     },
     "metadata": {
      "needs_background": "light"
     },
     "output_type": "display_data"
    },
    {
     "name": "stdout",
     "output_type": "stream",
     "text": [
      "pub_rec\n"
     ]
    },
    {
     "data": {
      "image/png": "[encoded data removed]",
      "text/plain": [
       "<Figure size 432x288 with 1 Axes>"
      ]
     },
     "metadata": {
      "needs_background": "light"
     },
     "output_type": "display_data"
    },
    {
     "name": "stdout",
     "output_type": "stream",
     "text": [
      "pub_rec_bankruptcies\n"
     ]
    },
    {
     "data": {
      "image/png": "[encoded data removed]",
      "text/plain": [
       "<Figure size 432x288 with 1 Axes>"
      ]
     },
     "metadata": {
      "needs_background": "light"
     },
     "output_type": "display_data"
    },
    {
     "name": "stdout",
     "output_type": "stream",
     "text": [
      "revol_bal\n"
     ]
    },
    {
     "data": {
      "image/png": "[encoded data removed]",
      "text/plain": [
       "<Figure size 432x288 with 1 Axes>"
      ]
     },
     "metadata": {
      "needs_background": "light"
     },
     "output_type": "display_data"
    },
    {
     "name": "stdout",
     "output_type": "stream",
     "text": [
      "revol_util\n"
     ]
    },
    {
     "data": {
      "image/png": "[encoded data removed]",
      "text/plain": [
       "<Figure size 432x288 with 1 Axes>"
      ]
     },
     "metadata": {
      "needs_background": "light"
     },
     "output_type": "display_data"
    },
    {
     "name": "stdout",
     "output_type": "stream",
     "text": [
      "total_acc\n"
     ]
    },
    {
     "data": {
      "image/png": "[encoded data removed]",
      "text/plain": [
       "<Figure size 432x288 with 1 Axes>"
      ]
     },
     "metadata": {
      "needs_background": "light"
     },
     "output_type": "display_data"
    },
    {
     "name": "stdout",
     "output_type": "stream",
     "text": [
      "earliest_cr_line_year\n"
     ]
    },
    {
     "data": {
      "image/png": "[encoded data removed]",
      "text/plain": [
       "<Figure size 432x288 with 1 Axes>"
      ]
     },
     "metadata": {
      "needs_background": "light"
     },
     "output_type": "display_data"
    },
    {
     "name": "stdout",
     "output_type": "stream",
     "text": [
      "earliest_cr_line_month\n"
     ]
    },
    {
     "data": {
      "image/png": "[encoded data removed]",
      "text/plain": [
       "<Figure size 432x288 with 1 Axes>"
      ]
     },
     "metadata": {
      "needs_background": "light"
     },
     "output_type": "display_data"
    }
   ],
   "source": [
    "for col in data.select_dtypes(include=np.number).columns:\n",
    "    print(col)\n",
    "    sns.histplot(data[col], kde=True)\n",
    "    plt.show()\n"
   ]
  },
  {
   "cell_type": "code",
   "execution_count": 183,
   "metadata": {
    "colab": {
     "background_save": true
    },
    "id": "b4ohg1WolXLB"
   },
   "outputs": [],
   "source": [
    "#  Bivaraiate Analysis"
   ]
  },
  {
   "cell_type": "code",
   "execution_count": null,
   "metadata": {
    "colab": {
     "background_save": true
    },
    "id": "nzDWnU0NuhBy"
   },
   "outputs": [
    {
     "data": {
      "text/plain": [
       "<seaborn.axisgrid.PairGrid at 0x7fce48f4e8e0>"
      ]
     },
     "execution_count": 268,
     "metadata": {},
     "output_type": "execute_result"
    }
   ],
   "source": [
    "sns.pairplot(data)\n"
   ]
  },
  {
   "cell_type": "code",
   "execution_count": 189,
   "metadata": {
    "colab": {
     "base_uri": "https://localhost:8080/",
     "height": 974
    },
    "id": "A62V5DUktE2-",
    "outputId": "4806ab3e-8334-4252-e6af-55771c6eba35"
   },
   "outputs": [
    {
     "data": {
      "image/png": "[encoded data removed]",
      "text/plain": [
       "<Figure size 720x720 with 2 Axes>"
      ]
     },
     "metadata": {
      "needs_background": "light"
     },
     "output_type": "display_data"
    }
   ],
   "source": [
    "plt.figure(figsize = (10,10),)\n",
    "sns.heatmap(train.corr(),annot = True, annot_kws = {'size':8})\n",
    "plt.show()\n"
   ]
  },
  {
   "cell_type": "code",
   "execution_count": 190,
   "metadata": {
    "colab": {
     "base_uri": "https://localhost:8080/"
    },
    "id": "Q2_mnmEKnTFb",
    "outputId": "b21eca2b-454f-43f1-e9a3-c76f4e85fefd"
   },
   "outputs": [
    {
     "data": {
      "text/plain": [
       "0    64030\n",
       "1    15970\n",
       "Name: loan_status, dtype: int64"
      ]
     },
     "execution_count": 190,
     "metadata": {},
     "output_type": "execute_result"
    }
   ],
   "source": [
    "\n",
    "data['loan_status'] = data['loan_status'].replace({'Fully Paid':0, 'Charged Off':1}).astype(int)\n",
    "data['loan_status'].value_counts(dropna=False)"
   ]
  },
  {
   "cell_type": "code",
   "execution_count": 191,
   "metadata": {
    "colab": {
     "base_uri": "https://localhost:8080/",
     "height": 423
    },
    "id": "iyiE0A4mxfUi",
    "outputId": "e9b64348-5549-4c94-eb4d-8c20f2b30f9d"
   },
   "outputs": [
    {
     "data": {
      "text/plain": [
       "<AxesSubplot:ylabel='loan_status'>"
      ]
     },
     "execution_count": 191,
     "metadata": {},
     "output_type": "execute_result"
    },
    {
     "data": {
      "image/png": "[encoded data removed]",
      "text/plain": [
       "<Figure size 432x288 with 1 Axes>"
      ]
     },
     "metadata": {},
     "output_type": "display_data"
    }
   ],
   "source": [
    "data['loan_status'].value_counts().plot.pie(autopct='%1.1f%%')"
   ]
  },
  {
   "cell_type": "code",
   "execution_count": 192,
   "metadata": {
    "colab": {
     "base_uri": "https://localhost:8080/"
    },
    "id": "fytxmBt-zM3J",
    "outputId": "7f576aea-36eb-48d4-ccc5-4d7015bd17ed"
   },
   "outputs": [
    {
     "data": {
      "text/plain": [
       "(Pipeline(steps=[('in', OneHotEncoder(handle_unknown='ignore'))]),\n",
       " Pipeline(steps=[('cep', StandardScaler())]))"
      ]
     },
     "execution_count": 192,
     "metadata": {},
     "output_type": "execute_result"
    }
   ],
   "source": [
    "# pipeline method\n",
    "cat_encode = Pipeline(steps=[('in', OneHotEncoder(handle_unknown='ignore'))])\n",
    "num_encode = Pipeline(steps=[('cep', StandardScaler())])\n",
    "cat_encode, num_encode"
   ]
  },
  {
   "cell_type": "code",
   "execution_count": 193,
   "metadata": {
    "colab": {
     "base_uri": "https://localhost:8080/",
     "height": 118
    },
    "id": "lwYn-ykuzcjl",
    "outputId": "dc16439a-fb4f-4f4f-d0aa-98b8b00b6827"
   },
   "outputs": [
    {
     "data": {
      "text/plain": [
       "ColumnTransformer(transformers=[('categorical',\n",
       "                                 Pipeline(steps=[('in',\n",
       "                                                  OneHotEncoder(handle_unknown='ignore'))]),\n",
       "                                 Index(['addr_state', 'earliest_cr_line', 'emp_length', 'emp_title', 'grade',\n",
       "       'home_ownership', 'application_type', 'initial_list_status', 'purpose',\n",
       "       'sub_grade', 'term', 'title', 'verification_status'],\n",
       "      dtype='object')),\n",
       "                                ('numerical',\n",
       "                                 Pipeline(steps=[('cep', StandardScaler())]),\n",
       "                                 Index(['annual_inc', 'fico_range_high', 'fico_range_low', 'int_rate',\n",
       "       'loan_amnt', 'num_actv_bc_tl', 'mort_acc', 'tot_cur_bal', 'open_acc',\n",
       "       'pub_rec', 'pub_rec_bankruptcies', 'revol_bal', 'revol_util',\n",
       "       'total_acc'],\n",
       "      dtype='object'))])"
      ]
     },
     "execution_count": 193,
     "metadata": {},
     "output_type": "execute_result"
    }
   ],
   "source": [
    "all_col_link = ColumnTransformer(transformers=[\n",
    "    ('categorical',cat_encode,cat_cols),\n",
    "    ('numerical',num_encode,num_cols),\n",
    "])\n",
    "all_col_link"
   ]
  },
  {
   "cell_type": "code",
   "execution_count": 202,
   "metadata": {
    "colab": {
     "base_uri": "https://localhost:8080/",
     "height": 157
    },
    "id": "7V19Ix2d0Hrg",
    "outputId": "4397392e-0d8f-4975-f565-ada20cdc4511"
   },
   "outputs": [
    {
     "data": {
      "text/plain": [
       "Pipeline(steps=[('preprocessing',\n",
       "                 ColumnTransformer(transformers=[('categorical',\n",
       "                                                  Pipeline(steps=[('in',\n",
       "                                                                   OneHotEncoder(handle_unknown='ignore'))]),\n",
       "                                                  Index(['addr_state', 'earliest_cr_line', 'emp_length', 'emp_title', 'grade',\n",
       "       'home_ownership', 'application_type', 'initial_list_status', 'purpose',\n",
       "       'sub_grade', 'term', 'title', 'verification_status'],\n",
       "      dtype='object')),\n",
       "                                                 ('numerical',\n",
       "                                                  Pipeline(steps=[('cep',\n",
       "                                                                   StandardScaler())]),\n",
       "                                                  Index(['annual_inc', 'fico_range_high', 'fico_range_low', 'int_rate',\n",
       "       'loan_amnt', 'num_actv_bc_tl', 'mort_acc', 'tot_cur_bal', 'open_acc',\n",
       "       'pub_rec', 'pub_rec_bankruptcies', 'revol_bal', 'revol_util',\n",
       "       'total_acc'],\n",
       "      dtype='object'))]))])"
      ]
     },
     "execution_count": 202,
     "metadata": {},
     "output_type": "execute_result"
    }
   ],
   "source": [
    "pipe = Pipeline(steps=[\n",
    "    ('preprocessing',all_col_link)\n",
    "])\n",
    "pipe"
   ]
  },
  {
   "cell_type": "code",
   "execution_count": 204,
   "metadata": {
    "colab": {
     "base_uri": "https://localhost:8080/",
     "height": 192
    },
    "id": "fFjWVxExEWdo",
    "outputId": "c7ece7ee-b6d3-45e8-95ee-52b95e85a46d"
   },
   "outputs": [
    {
     "data": {
      "text/plain": [
       "Pipeline(steps=[('preprocess',\n",
       "                 ColumnTransformer(transformers=[('categorical',\n",
       "                                                  Pipeline(steps=[('in',\n",
       "                                                                   OneHotEncoder(handle_unknown='ignore'))]),\n",
       "                                                  Index(['addr_state', 'earliest_cr_line', 'emp_length', 'emp_title', 'grade',\n",
       "       'home_ownership', 'application_type', 'initial_list_status', 'purpose',\n",
       "       'sub_grade', 'term', 'title', 'verification_status'],\n",
       "      dtype='object')),\n",
       "                                                 ('numerical',\n",
       "                                                  Pipeline(steps=[('cep',\n",
       "                                                                   StandardScaler())]),\n",
       "                                                  Index(['annual_inc', 'fico_range_high', 'fico_range_low', 'int_rate',\n",
       "       'loan_amnt', 'num_actv_bc_tl', 'mort_acc', 'tot_cur_bal', 'open_acc',\n",
       "       'pub_rec', 'pub_rec_bankruptcies', 'revol_bal', 'revol_util',\n",
       "       'total_acc'],\n",
       "      dtype='object'))])),\n",
       "                ('model', LogisticRegression())])"
      ]
     },
     "execution_count": 204,
     "metadata": {},
     "output_type": "execute_result"
    }
   ],
   "source": [
    "pipe_mdl = Pipeline([\n",
    " ('preprocess', all_col_link),\n",
    " ('model',LogisticRegression())\n",
    "])\n",
    "pipe_mdl"
   ]
  },
  {
   "cell_type": "code",
   "execution_count": 206,
   "metadata": {
    "id": "MQGSajRZFdxE"
   },
   "outputs": [],
   "source": [
    "X = train.drop(columns='loan_status')\n",
    "y= train[['loan_status']]"
   ]
  },
  {
   "cell_type": "code",
   "execution_count": 208,
   "metadata": {
    "colab": {
     "base_uri": "https://localhost:8080/"
    },
    "id": "9_mqXyjYEWpP",
    "outputId": "a8f77334-3290-4508-f260-e2ecc003e0b3"
   },
   "outputs": [
    {
     "data": {
      "text/plain": [
       "((64000, 27), (16000, 27), (64000, 1), (16000, 1))"
      ]
     },
     "execution_count": 208,
     "metadata": {},
     "output_type": "execute_result"
    }
   ],
   "source": [
    "# splitting the data into train and validation with 80-20%\n",
    "train_X, val_X, train_y, val_y = train_test_split(X,y,test_size=0.2, random_state=42)\n",
    "train_X.shape, val_X.shape, train_y.shape, val_y.shape"
   ]
  },
  {
   "cell_type": "code",
   "execution_count": 210,
   "metadata": {
    "colab": {
     "base_uri": "https://localhost:8080/",
     "height": 192
    },
    "id": "lyuTu_aDEWqV",
    "outputId": "c0480dbb-1439-4787-cca8-baf017328fd7"
   },
   "outputs": [
    {
     "data": {
      "text/plain": [
       "Pipeline(steps=[('preprocess',\n",
       "                 ColumnTransformer(transformers=[('categorical',\n",
       "                                                  Pipeline(steps=[('in',\n",
       "                                                                   OneHotEncoder(handle_unknown='ignore'))]),\n",
       "                                                  Index(['addr_state', 'earliest_cr_line', 'emp_length', 'emp_title', 'grade',\n",
       "       'home_ownership', 'application_type', 'initial_list_status', 'purpose',\n",
       "       'sub_grade', 'term', 'title', 'verification_status'],\n",
       "      dtype='object')),\n",
       "                                                 ('numerical',\n",
       "                                                  Pipeline(steps=[('cep',\n",
       "                                                                   StandardScaler())]),\n",
       "                                                  Index(['annual_inc', 'fico_range_high', 'fico_range_low', 'int_rate',\n",
       "       'loan_amnt', 'num_actv_bc_tl', 'mort_acc', 'tot_cur_bal', 'open_acc',\n",
       "       'pub_rec', 'pub_rec_bankruptcies', 'revol_bal', 'revol_util',\n",
       "       'total_acc'],\n",
       "      dtype='object'))])),\n",
       "                ('model', LogisticRegression())])"
      ]
     },
     "execution_count": 210,
     "metadata": {},
     "output_type": "execute_result"
    }
   ],
   "source": [
    "# Fittinfg the model and also doing prediction\n",
    "pipe_mdl.fit(train_X,train_y)"
   ]
  },
  {
   "cell_type": "code",
   "execution_count": 212,
   "metadata": {
    "colab": {
     "background_save": true
    },
    "id": "ZPtSoXQTZLlh"
   },
   "outputs": [],
   "source": [
    "# checkind the results"
   ]
  },
  {
   "cell_type": "code",
   "execution_count": 214,
   "metadata": {
    "id": "Veh3SG8tVYH8"
   },
   "outputs": [],
   "source": [
    "pred_val_y = pipe_mdl.predict(val_X)\n"
   ]
  },
  {
   "cell_type": "code",
   "execution_count": 216,
   "metadata": {
    "colab": {
     "base_uri": "https://localhost:8080/"
    },
    "id": "SPcjpB2zradf",
    "outputId": "08552e11-8151-40bf-8562-37ea3c4ba58f"
   },
   "outputs": [
    {
     "name": "stdout",
     "output_type": "stream",
     "text": [
      "Vald confusion_matrix:\n",
      " [[  318  2796]\n",
      " [  366 12520]]\n"
     ]
    }
   ],
   "source": [
    "print('Vald confusion_matrix:\\n', confusion_matrix(val_y,pred_val_y))\n"
   ]
  },
  {
   "cell_type": "code",
   "execution_count": 218,
   "metadata": {
    "colab": {
     "base_uri": "https://localhost:8080/"
    },
    "id": "KAyP4P1SajIB",
    "outputId": "fc4c79c5-c8c0-482a-bad0-2bcfb2455754"
   },
   "outputs": [
    {
     "name": "stdout",
     "output_type": "stream",
     "text": [
      "val classification_rep:\n",
      "               precision    recall  f1-score   support\n",
      "\n",
      " Charged Off       0.46      0.10      0.17      3114\n",
      "  Fully Paid       0.82      0.97      0.89     12886\n",
      "\n",
      "    accuracy                           0.80     16000\n",
      "   macro avg       0.64      0.54      0.53     16000\n",
      "weighted avg       0.75      0.80      0.75     16000\n",
      "\n"
     ]
    }
   ],
   "source": [
    "print('val classification_rep:\\n', classification_report(val_y,pred_val_y))"
   ]
  },
  {
   "cell_type": "code",
   "execution_count": 220,
   "metadata": {
    "colab": {
     "base_uri": "https://localhost:8080/",
     "height": 342
    },
    "id": "gO0fw504pr7q",
    "outputId": "a437ad11-f8e7-41be-bcb3-cee99a03a697"
   },
   "outputs": [
    {
     "data": {
      "text/html": [
       "<div>\n",
       "<style scoped>\n",
       "    .dataframe tbody tr th:only-of-type {\n",
       "        vertical-align: middle;\n",
       "    }\n",
       "\n",
       "    .dataframe tbody tr th {\n",
       "        vertical-align: top;\n",
       "    }\n",
       "\n",
       "    .dataframe thead th {\n",
       "        text-align: right;\n",
       "    }\n",
       "</style>\n",
       "<table border=\"1\" class=\"dataframe\">\n",
       "  <thead>\n",
       "    <tr style=\"text-align: right;\">\n",
       "      <th></th>\n",
       "      <th>addr_state</th>\n",
       "      <th>annual_inc</th>\n",
       "      <th>emp_length</th>\n",
       "      <th>fico_range_high</th>\n",
       "      <th>fico_range_low</th>\n",
       "      <th>grade</th>\n",
       "      <th>home_ownership</th>\n",
       "      <th>application_type</th>\n",
       "      <th>initial_list_status</th>\n",
       "      <th>int_rate</th>\n",
       "      <th>...</th>\n",
       "      <th>purpose</th>\n",
       "      <th>revol_bal</th>\n",
       "      <th>revol_util</th>\n",
       "      <th>sub_grade</th>\n",
       "      <th>term</th>\n",
       "      <th>total_acc</th>\n",
       "      <th>verification_status</th>\n",
       "      <th>loan_status</th>\n",
       "      <th>earliest_cr_line_year</th>\n",
       "      <th>earliest_cr_line_month</th>\n",
       "    </tr>\n",
       "  </thead>\n",
       "  <tbody>\n",
       "    <tr>\n",
       "      <th>0</th>\n",
       "      <td>CO</td>\n",
       "      <td>85000.0</td>\n",
       "      <td>10.0</td>\n",
       "      <td>744.0</td>\n",
       "      <td>740.0</td>\n",
       "      <td>E</td>\n",
       "      <td>MORTGAGE</td>\n",
       "      <td>Individual</td>\n",
       "      <td>w</td>\n",
       "      <td>18.99</td>\n",
       "      <td>...</td>\n",
       "      <td>debt_consolidation</td>\n",
       "      <td>5338.0</td>\n",
       "      <td>93.6</td>\n",
       "      <td>E1</td>\n",
       "      <td>60 months</td>\n",
       "      <td>8.0</td>\n",
       "      <td>Source Verified</td>\n",
       "      <td>1</td>\n",
       "      <td>1997</td>\n",
       "      <td>7</td>\n",
       "    </tr>\n",
       "    <tr>\n",
       "      <th>1</th>\n",
       "      <td>CA</td>\n",
       "      <td>40000.0</td>\n",
       "      <td>10.0</td>\n",
       "      <td>724.0</td>\n",
       "      <td>720.0</td>\n",
       "      <td>B</td>\n",
       "      <td>RENT</td>\n",
       "      <td>Individual</td>\n",
       "      <td>w</td>\n",
       "      <td>10.16</td>\n",
       "      <td>...</td>\n",
       "      <td>debt_consolidation</td>\n",
       "      <td>19944.0</td>\n",
       "      <td>60.3</td>\n",
       "      <td>B1</td>\n",
       "      <td>36 months</td>\n",
       "      <td>12.0</td>\n",
       "      <td>Verified</td>\n",
       "      <td>0</td>\n",
       "      <td>1987</td>\n",
       "      <td>4</td>\n",
       "    </tr>\n",
       "    <tr>\n",
       "      <th>2</th>\n",
       "      <td>FL</td>\n",
       "      <td>60000.0</td>\n",
       "      <td>10.0</td>\n",
       "      <td>679.0</td>\n",
       "      <td>675.0</td>\n",
       "      <td>B</td>\n",
       "      <td>MORTGAGE</td>\n",
       "      <td>Individual</td>\n",
       "      <td>w</td>\n",
       "      <td>11.47</td>\n",
       "      <td>...</td>\n",
       "      <td>debt_consolidation</td>\n",
       "      <td>23199.0</td>\n",
       "      <td>88.5</td>\n",
       "      <td>B5</td>\n",
       "      <td>36 months</td>\n",
       "      <td>16.0</td>\n",
       "      <td>Source Verified</td>\n",
       "      <td>0</td>\n",
       "      <td>2007</td>\n",
       "      <td>8</td>\n",
       "    </tr>\n",
       "    <tr>\n",
       "      <th>3</th>\n",
       "      <td>IL</td>\n",
       "      <td>100742.0</td>\n",
       "      <td>10.0</td>\n",
       "      <td>664.0</td>\n",
       "      <td>660.0</td>\n",
       "      <td>B</td>\n",
       "      <td>MORTGAGE</td>\n",
       "      <td>Individual</td>\n",
       "      <td>w</td>\n",
       "      <td>9.16</td>\n",
       "      <td>...</td>\n",
       "      <td>debt_consolidation</td>\n",
       "      <td>18425.0</td>\n",
       "      <td>69.0</td>\n",
       "      <td>B2</td>\n",
       "      <td>36 months</td>\n",
       "      <td>19.0</td>\n",
       "      <td>Source Verified</td>\n",
       "      <td>0</td>\n",
       "      <td>1980</td>\n",
       "      <td>9</td>\n",
       "    </tr>\n",
       "    <tr>\n",
       "      <th>4</th>\n",
       "      <td>MD</td>\n",
       "      <td>80000.0</td>\n",
       "      <td>10.0</td>\n",
       "      <td>669.0</td>\n",
       "      <td>665.0</td>\n",
       "      <td>F</td>\n",
       "      <td>RENT</td>\n",
       "      <td>Individual</td>\n",
       "      <td>f</td>\n",
       "      <td>23.83</td>\n",
       "      <td>...</td>\n",
       "      <td>debt_consolidation</td>\n",
       "      <td>34370.0</td>\n",
       "      <td>90.0</td>\n",
       "      <td>F5</td>\n",
       "      <td>60 months</td>\n",
       "      <td>59.0</td>\n",
       "      <td>Verified</td>\n",
       "      <td>0</td>\n",
       "      <td>1999</td>\n",
       "      <td>7</td>\n",
       "    </tr>\n",
       "  </tbody>\n",
       "</table>\n",
       "<p>5 rows × 27 columns</p>\n",
       "</div>"
      ],
      "text/plain": [
       "  addr_state  annual_inc  emp_length  fico_range_high  fico_range_low grade  \\\n",
       "0         CO     85000.0        10.0            744.0           740.0     E   \n",
       "1         CA     40000.0        10.0            724.0           720.0     B   \n",
       "2         FL     60000.0        10.0            679.0           675.0     B   \n",
       "3         IL    100742.0        10.0            664.0           660.0     B   \n",
       "4         MD     80000.0        10.0            669.0           665.0     F   \n",
       "\n",
       "  home_ownership application_type initial_list_status  int_rate  ...  \\\n",
       "0       MORTGAGE       Individual                   w     18.99  ...   \n",
       "1           RENT       Individual                   w     10.16  ...   \n",
       "2       MORTGAGE       Individual                   w     11.47  ...   \n",
       "3       MORTGAGE       Individual                   w      9.16  ...   \n",
       "4           RENT       Individual                   f     23.83  ...   \n",
       "\n",
       "              purpose  revol_bal  revol_util  sub_grade        term  \\\n",
       "0  debt_consolidation     5338.0        93.6         E1   60 months   \n",
       "1  debt_consolidation    19944.0        60.3         B1   36 months   \n",
       "2  debt_consolidation    23199.0        88.5         B5   36 months   \n",
       "3  debt_consolidation    18425.0        69.0         B2   36 months   \n",
       "4  debt_consolidation    34370.0        90.0         F5   60 months   \n",
       "\n",
       "   total_acc  verification_status loan_status  earliest_cr_line_year  \\\n",
       "0        8.0      Source Verified           1                   1997   \n",
       "1       12.0             Verified           0                   1987   \n",
       "2       16.0      Source Verified           0                   2007   \n",
       "3       19.0      Source Verified           0                   1980   \n",
       "4       59.0             Verified           0                   1999   \n",
       "\n",
       "   earliest_cr_line_month  \n",
       "0                       7  \n",
       "1                       4  \n",
       "2                       8  \n",
       "3                       9  \n",
       "4                       7  \n",
       "\n",
       "[5 rows x 27 columns]"
      ]
     },
     "execution_count": 220,
     "metadata": {},
     "output_type": "execute_result"
    }
   ],
   "source": [
    "data.head()"
   ]
  },
  {
   "cell_type": "code",
   "execution_count": 222,
   "metadata": {
    "colab": {
     "base_uri": "https://localhost:8080/",
     "height": 466
    },
    "id": "j5L-6GXBr8Cq",
    "outputId": "1930aecd-2864-4337-e868-25e00686a50e"
   },
   "outputs": [
    {
     "data": {
      "text/plain": [
       "<sklearn.metrics._plot.confusion_matrix.ConfusionMatrixDisplay at 0x7fce54b3f640>"
      ]
     },
     "execution_count": 222,
     "metadata": {},
     "output_type": "execute_result"
    },
    {
     "data": {
      "image/png": "[encoded data removed]",
      "text/plain": [
       "<Figure size 432x288 with 2 Axes>"
      ]
     },
     "metadata": {
      "needs_background": "light"
     },
     "output_type": "display_data"
    }
   ],
   "source": [
    "#Displaying in chart grid\n",
    "ConfusionMatrixDisplay.from_predictions(val_y,pred_val_y)\n"
   ]
  },
  {
   "cell_type": "code",
   "execution_count": 224,
   "metadata": {
    "id": "UJ7Tm4_AsTPi"
   },
   "outputs": [],
   "source": [
    "#Multi model pipeline\n",
    "\n",
    "pipe_lr = Pipeline([\n",
    "    ('preprocess',all_col_link),\n",
    "    ('lr',LogisticRegression())\n",
    "])\n",
    "\n",
    "pipe_dt = Pipeline([\n",
    "    ('preprocess',all_col_link),\n",
    "    ('dt',DecisionTreeClassifier())\n",
    "])\n",
    "\n",
    "pipe_knn = Pipeline([\n",
    "    ('preprocess',all_col_link),\n",
    "    ('knn',KNeighborsClassifier())\n",
    "])\n",
    "\n",
    "pipe_rf = Pipeline([\n",
    "    ('preprocess',all_col_link),\n",
    "    ('rf',RandomForestClassifier())\n",
    "])\n"
   ]
  },
  {
   "cell_type": "code",
   "execution_count": 226,
   "metadata": {
    "id": "pGlyAqfawLih"
   },
   "outputs": [],
   "source": [
    "grid_param_lr = [{'lr__penalty':['l2']}]\n",
    "grid_param_knn = [{'knn__n_neighbors':[10,15]}]\n",
    "grid_param_dt = [{'dt__max_depth':[5,10]}]\n",
    "grid_param_rf = [{'rf__max_depth':[5,10]}]\n"
   ]
  },
  {
   "cell_type": "code",
   "execution_count": 228,
   "metadata": {
    "id": "Nl4oOkPOwuG3"
   },
   "outputs": [],
   "source": [
    "# GridSearchCV\n",
    "gridsrc_lr = GridSearchCV(pipe_lr, param_grid=grid_param_lr, scoring='neg_log_loss', cv=2)\n",
    "gridsrc_knn = GridSearchCV(pipe_knn, param_grid=grid_param_knn, scoring='neg_log_loss', cv=2)\n",
    "gridsrc_dt = GridSearchCV(pipe_dt, param_grid=grid_param_dt, scoring='neg_log_loss', cv=2)\n",
    "gridsrc_rf = GridSearchCV(pipe_rf, param_grid=grid_param_rf, scoring='neg_log_loss', cv=2)\n"
   ]
  },
  {
   "cell_type": "code",
   "execution_count": 230,
   "metadata": {
    "id": "R0H4s6j_xKJ-"
   },
   "outputs": [],
   "source": [
    "\n",
    "\n",
    "# run through models\n",
    "result_acc = {}\n",
    "models = []\n",
    "iter_mdl = [gridsrc_lr,  gridsrc_knn, gridsrc_dt, gridsrc_rf]\n",
    "mdl_idx = {0:'Log_reg', 1:'Knn', 2:'DecisionTree', 3:'RandomForest'}"
   ]
  },
  {
   "cell_type": "code",
   "execution_count": 232,
   "metadata": {
    "colab": {
     "background_save": true,
     "base_uri": "https://localhost:8080/"
    },
    "id": "tXJHrLOrx_hc",
    "outputId": "e1bcd78f-5ec3-4e52-9f3b-205a1c1813f8"
   },
   "outputs": [
    {
     "name": "stdout",
     "output_type": "stream",
     "text": [
      "{'lr__penalty': 'l2'}\n",
      "-0.47355269421637375\n",
      "{'knn__n_neighbors': 15}\n",
      "-0.7892804215102154\n",
      "{'dt__max_depth': 5}\n",
      "-0.472441556699587\n",
      "{'rf__max_depth': 10}\n",
      "-0.48490764800957026\n"
     ]
    }
   ],
   "source": [
    "for id, model in enumerate(iter_mdl):\n",
    "  model.fit(train_X, train_y)\n",
    "  print(model.best_params_)\n",
    "  print(model.best_score_)\n",
    "\n",
    "  models.append(model.best_estimator_)\n",
    "  result_acc[id] = model.best_score_"
   ]
  },
  {
   "cell_type": "code",
   "execution_count": 266,
   "metadata": {
    "id": "8PqspIrfMD0_"
   },
   "outputs": [
    {
     "data": {
      "text/html": [
       "<div>\n",
       "<style scoped>\n",
       "    .dataframe tbody tr th:only-of-type {\n",
       "        vertical-align: middle;\n",
       "    }\n",
       "\n",
       "    .dataframe tbody tr th {\n",
       "        vertical-align: top;\n",
       "    }\n",
       "\n",
       "    .dataframe thead th {\n",
       "        text-align: right;\n",
       "    }\n",
       "</style>\n",
       "<table border=\"1\" class=\"dataframe\">\n",
       "  <thead>\n",
       "    <tr style=\"text-align: right;\">\n",
       "      <th></th>\n",
       "      <th>Model</th>\n",
       "      <th>Accuracy</th>\n",
       "    </tr>\n",
       "  </thead>\n",
       "  <tbody>\n",
       "    <tr>\n",
       "      <th>0</th>\n",
       "      <td>Log_reg</td>\n",
       "      <td>-0.473553</td>\n",
       "    </tr>\n",
       "    <tr>\n",
       "      <th>1</th>\n",
       "      <td>Knn</td>\n",
       "      <td>-0.789280</td>\n",
       "    </tr>\n",
       "    <tr>\n",
       "      <th>2</th>\n",
       "      <td>DecisionTree</td>\n",
       "      <td>-0.472442</td>\n",
       "    </tr>\n",
       "    <tr>\n",
       "      <th>3</th>\n",
       "      <td>RandomForest</td>\n",
       "      <td>-0.484908</td>\n",
       "    </tr>\n",
       "  </tbody>\n",
       "</table>\n",
       "</div>"
      ],
      "text/plain": [
       "          Model  Accuracy\n",
       "0       Log_reg -0.473553\n",
       "1           Knn -0.789280\n",
       "2  DecisionTree -0.472442\n",
       "3  RandomForest -0.484908"
      ]
     },
     "execution_count": 266,
     "metadata": {},
     "output_type": "execute_result"
    }
   ],
   "source": [
    "pd.DataFrame(list(zip(mdl_idx.values(), result_acc.values())), columns=['Model','Accuracy'])"
   ]
  }
 ],
 "metadata": {
  "colab": {
   "provenance": []
  },
  "kernelspec": {
   "display_name": "anaconda-2022.05-py39",
   "language": "python",
   "name": "conda-env-anaconda-2022.05-py39-py"
  },
  "language_info": {
   "codemirror_mode": {
    "name": "ipython",
    "version": 3
   },
   "file_extension": ".py",
   "mimetype": "text/x-python",
   "name": "python",
   "nbconvert_exporter": "python",
   "pygments_lexer": "ipython3",
   "version": "3.9.12"
  }
 },
 "nbformat": 4,
 "nbformat_minor": 4
}
